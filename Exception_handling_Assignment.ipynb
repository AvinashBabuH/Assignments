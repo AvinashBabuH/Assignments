{
 "cells": [
  {
   "cell_type": "markdown",
   "id": "7601b74f",
   "metadata": {},
   "source": [
    "# Exception_Handling_Assignment"
   ]
  },
  {
   "cell_type": "markdown",
   "id": "76a30d31",
   "metadata": {},
   "source": [
    "Question : Write a function to compute 5/0 and use try/except to catch the exceptions."
   ]
  },
  {
   "cell_type": "code",
   "execution_count": null,
   "id": "684006cb",
   "metadata": {},
   "outputs": [],
   "source": [
    "def mydivision(a,b):\n",
    "    try:\n",
    "        res = a/b\n",
    "        return res\n",
    "    except ArithmeticError as e:\n",
    "        print(\"Divide by Zero Exception has occured. Please change the value of b\")\n",
    "\n",
    "if __name__ == '__main__':\n",
    "    try:\n",
    "        a = float(input(\"Enter the value of 'a':\"))\n",
    "        b = float(input(\"Enter the value of 'b':\"))\n",
    "        res = mydivision(a,b)\n",
    "        print(\"The result of %0.2f\" %a, \"divided by %0.2f\" %b, \"is:\", res)\n",
    "    except ValueError as e:\n",
    "        print(\"Enter integer values\")\n",
    "    \n"
   ]
  },
  {
   "cell_type": "code",
   "execution_count": null,
   "id": "ff307f1a",
   "metadata": {},
   "outputs": [],
   "source": []
  },
  {
   "cell_type": "markdown",
   "id": "fd1cfce5",
   "metadata": {},
   "source": [
    "Implement a Python program to generate all sentences where subject is in [\"Americans\", \"Indians\"] and verb is in [\"Play\",\"watch\"] and the object is in [\"Baseball\",\"cricket\"].\n",
    "\n",
    "Output should come as below:\n",
    "\n",
    "Americans play Baseball.<br>\n",
    "Americans play Cricket.<br>\n",
    "Americans watch Baseball.<br>\n",
    "Americans watch Cricket.<br>\n",
    "Indians play Baseball.<br>\n",
    "Indians play Cricket.<br>\n",
    "Indians watch Baseball.<br>\n",
    "Indians watch Cricket.<br>"
   ]
  },
  {
   "cell_type": "code",
   "execution_count": null,
   "id": "ceaaac59",
   "metadata": {},
   "outputs": [],
   "source": [
    "if __name__ == \"__main__\":\n",
    "    subjects=[\"Americans\",\"Indians\"]\n",
    "    verbs=[\"play\",\"watch\"]\n",
    "    objects=[\"Baseball\",\"Cricket\"]\n",
    "\n",
    "    for sub in subjects:\n",
    "        for verb in verbs:\n",
    "            for obj in objects:\n",
    "                print(sub+\" \"+verb+\" \"+obj+'.')"
   ]
  }
 ],
 "metadata": {
  "kernelspec": {
   "display_name": "Python 3",
   "language": "python",
   "name": "python3"
  },
  "language_info": {
   "codemirror_mode": {
    "name": "ipython",
    "version": 3
   },
   "file_extension": ".py",
   "mimetype": "text/x-python",
   "name": "python",
   "nbconvert_exporter": "python",
   "pygments_lexer": "ipython3",
   "version": "3.8.8"
  }
 },
 "nbformat": 4,
 "nbformat_minor": 5
}
