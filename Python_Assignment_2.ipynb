{
 "cells": [
  {
   "cell_type": "markdown",
   "id": "4f406380",
   "metadata": {},
   "source": [
    "# Assignment_2"
   ]
  },
  {
   "cell_type": "markdown",
   "id": "e5e4c15c",
   "metadata": {},
   "source": [
    "Create the below pattern using nested for loop in Python.\n",
    "\n",
    "*\n",
    "* *\n",
    "* * *\n",
    "* * * *\n",
    "* * * * *\n",
    "* * * *\n",
    "* * *\n",
    "* *\n",
    "*"
   ]
  },
  {
   "cell_type": "code",
   "execution_count": null,
   "id": "262f2601",
   "metadata": {},
   "outputs": [],
   "source": [
    "n = int(input(\"Number of rows : \"))\n",
    "\n",
    "#For upper half of the pattern\n",
    "for i in range(0,n):\n",
    "    for j in range(0,i+1): \n",
    "        print('*', end = \" \") #as by default 'end' is '\\n', we have to mention to end with space.\n",
    "    print(\" \")  # as by default 'end' is '\\n'.\n",
    "\n",
    "    #For lower half of the pattern\n",
    "for i in range(n,0,-1):  \n",
    "    for j in range(0,i-1):  \n",
    "        print(\"*\",end = \" \") \n",
    "    print(\" \") \n"
   ]
  },
  {
   "cell_type": "markdown",
   "id": "f4553bb0",
   "metadata": {},
   "source": [
    "Question 2 : Write a Python program to reverse a word after accepting the input from the user."
   ]
  },
  {
   "cell_type": "code",
   "execution_count": null,
   "id": "f970bc8f",
   "metadata": {},
   "outputs": [],
   "source": [
    "word = input(\"Enter the word to be reversed : \")\n",
    "rev_word = word[::-1]\n",
    "print(\"Reversed word is : \", rev_word)"
   ]
  }
 ],
 "metadata": {
  "kernelspec": {
   "display_name": "Python 3",
   "language": "python",
   "name": "python3"
  },
  "language_info": {
   "codemirror_mode": {
    "name": "ipython",
    "version": 3
   },
   "file_extension": ".py",
   "mimetype": "text/x-python",
   "name": "python",
   "nbconvert_exporter": "python",
   "pygments_lexer": "ipython3",
   "version": "3.8.8"
  }
 },
 "nbformat": 4,
 "nbformat_minor": 5
}
