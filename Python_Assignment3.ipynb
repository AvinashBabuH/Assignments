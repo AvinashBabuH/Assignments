{
 "cells": [
  {
   "cell_type": "markdown",
   "id": "adffce6d",
   "metadata": {},
   "source": [
    "# Assignment 3"
   ]
  },
  {
   "cell_type": "markdown",
   "id": "dcfcf28f",
   "metadata": {},
   "source": [
    "Question 1:\n",
    "    Write a Python Program to implement your own myreduce() function which works exactly like Python's built-in function    reduce()"
   ]
  },
  {
   "cell_type": "code",
   "execution_count": 1,
   "id": "74e82f63",
   "metadata": {},
   "outputs": [
    {
     "data": {
      "text/plain": [
       "'avinashbabuh'"
      ]
     },
     "execution_count": 1,
     "metadata": {},
     "output_type": "execute_result"
    }
   ],
   "source": [
    "def myreduce(func,data):\n",
    "    result = data[0]\n",
    "    data = data[1:]\n",
    "    for i in data:\n",
    "        result = func(result,i)\n",
    "    return result\n",
    "\n",
    "data = ('avinash','babu','h')\n",
    "myreduce(lambda a,b : a+b, data)"
   ]
  },
  {
   "cell_type": "code",
   "execution_count": null,
   "id": "182493cc",
   "metadata": {},
   "outputs": [],
   "source": []
  },
  {
   "cell_type": "markdown",
   "id": "f5887014",
   "metadata": {},
   "source": [
    "Question 2 : Write a Python program to implement your own myfilter() function which works exactly\n",
    "like Python's built-in function filter()"
   ]
  },
  {
   "cell_type": "code",
   "execution_count": 2,
   "id": "d1dc10f4",
   "metadata": {},
   "outputs": [
    {
     "data": {
      "text/plain": [
       "[2, 3, 4, 5, 7, 9, 10]"
      ]
     },
     "execution_count": 2,
     "metadata": {},
     "output_type": "execute_result"
    }
   ],
   "source": [
    "def myfilter(func,data):\n",
    "    return [result for result in data if func(result)]\n",
    "\n",
    "data = [-1,2,3,4,5,-6,7,-8,9,10]\n",
    "myfilter(lambda x : x>0, data)"
   ]
  },
  {
   "cell_type": "code",
   "execution_count": null,
   "id": "0902ef75",
   "metadata": {},
   "outputs": [],
   "source": []
  },
  {
   "cell_type": "markdown",
   "id": "b049ab86",
   "metadata": {},
   "source": [
    "Question 3: Implement List comprehensions to produce the following lists."
   ]
  },
  {
   "cell_type": "markdown",
   "id": "2cf0341c",
   "metadata": {},
   "source": [
    "['x', 'xx', 'xxx', 'xxxx', 'y', 'yy', 'yyy', 'yyyy', 'z', 'zz', 'zzz', 'zzzz']"
   ]
  },
  {
   "cell_type": "code",
   "execution_count": 3,
   "id": "f89ad2de",
   "metadata": {},
   "outputs": [
    {
     "name": "stdout",
     "output_type": "stream",
     "text": [
      "['x', 'xx', 'xxx', 'xxxx', 'y', 'yy', 'yyy', 'yyyy', 'z', 'zz', 'zzz', 'zzzz']\n"
     ]
    }
   ],
   "source": [
    "list1 = [i*j for i in 'xyz' for j in range(1,5)]\n",
    "print(list1)"
   ]
  },
  {
   "cell_type": "markdown",
   "id": "483ab9a6",
   "metadata": {},
   "source": [
    "['x', 'y', 'z', 'xx', 'yy', 'zz', 'xxx', 'yyy', 'zzz', 'xxxx', 'yyyy', 'zzzz']"
   ]
  },
  {
   "cell_type": "code",
   "execution_count": 4,
   "id": "17eb56a0",
   "metadata": {},
   "outputs": [
    {
     "name": "stdout",
     "output_type": "stream",
     "text": [
      "['x', 'y', 'z', 'xx', 'yy', 'zz', 'xxx', 'yyy', 'zzz', 'xxxx', 'yyyy', 'zzzz']\n"
     ]
    }
   ],
   "source": [
    "list2 = [i*j for i in range(1,5) for j in 'xyz']\n",
    "print(list2)"
   ]
  },
  {
   "cell_type": "markdown",
   "id": "efd284f6",
   "metadata": {},
   "source": [
    "[[2], [3], [4], [3], [4], [5], [4], [5], [6]]"
   ]
  },
  {
   "cell_type": "code",
   "execution_count": 5,
   "id": "555a14c5",
   "metadata": {},
   "outputs": [
    {
     "name": "stdout",
     "output_type": "stream",
     "text": [
      "[[2], [3], [4], [3], [4], [5], [4], [5], [6]]\n"
     ]
    }
   ],
   "source": [
    "list3 = [[j] for i in range(2,5) for j in range(i,i+3)]\n",
    "print(list3)"
   ]
  },
  {
   "cell_type": "markdown",
   "id": "fda98b47",
   "metadata": {},
   "source": [
    "[[2,3,4,5],[3, 4, 5, 6],[4, 5, 6, 7], [5, 6, 7, 8]]"
   ]
  },
  {
   "cell_type": "code",
   "execution_count": 6,
   "id": "a266b90b",
   "metadata": {},
   "outputs": [
    {
     "name": "stdout",
     "output_type": "stream",
     "text": [
      "[[2, 3, 4, 5], [3, 4, 5, 6], [4, 5, 6, 7], [5, 6, 7, 8]]\n"
     ]
    }
   ],
   "source": [
    "list4 = [[j for j in range(i,i+4)] for i in range(2,6) ]\n",
    "print(list4)"
   ]
  },
  {
   "cell_type": "markdown",
   "id": "1586a6e5",
   "metadata": {},
   "source": [
    "[(1, 1), (2, 1), (3, 1), (1, 2), (2, 2), (3, 2), (1, 3), (2, 3), (3, 3)]"
   ]
  },
  {
   "cell_type": "code",
   "execution_count": 7,
   "id": "01270c44",
   "metadata": {},
   "outputs": [
    {
     "name": "stdout",
     "output_type": "stream",
     "text": [
      "[(1, 1), (2, 1), (3, 1), (1, 2), (2, 2), (3, 2), (1, 3), (2, 3), (3, 3)]\n"
     ]
    }
   ],
   "source": [
    "list5 = [(i,j) for j in range(1,4) for i in range(1,4)]\n",
    "print(list5)"
   ]
  },
  {
   "cell_type": "code",
   "execution_count": null,
   "id": "7274d268",
   "metadata": {},
   "outputs": [],
   "source": []
  }
 ],
 "metadata": {
  "kernelspec": {
   "display_name": "Python 3",
   "language": "python",
   "name": "python3"
  },
  "language_info": {
   "codemirror_mode": {
    "name": "ipython",
    "version": 3
   },
   "file_extension": ".py",
   "mimetype": "text/x-python",
   "name": "python",
   "nbconvert_exporter": "python",
   "pygments_lexer": "ipython3",
   "version": "3.8.8"
  }
 },
 "nbformat": 4,
 "nbformat_minor": 5
}
