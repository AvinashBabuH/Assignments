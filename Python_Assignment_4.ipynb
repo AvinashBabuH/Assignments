{
 "cells": [
  {
   "cell_type": "markdown",
   "id": "a1592d91",
   "metadata": {},
   "source": [
    "# Assignment_4"
   ]
  },
  {
   "cell_type": "markdown",
   "id": "35f770b6",
   "metadata": {},
   "source": [
    "Write a Python Program(with class concepts) to find the area of the triangle using the below formula.\n",
    "\n",
    "area = (s*(s-a)*(s-b)*(s-c)) ^ 0.5\n",
    "\n",
    "Function to take the length of the sides of triangle from user should be defined in the parent\n",
    "class and function to calculate the area should be defined in subclass."
   ]
  },
  {
   "cell_type": "code",
   "execution_count": null,
   "id": "5b00f303",
   "metadata": {},
   "outputs": [],
   "source": [
    "class triangle:\n",
    "    def __init__(self):\n",
    "            self.a = float(input(\"Enter the value of 'a': \"))\n",
    "            self.b = float(input(\"Enter the value of 'b': \"))\n",
    "            self.c = float(input(\"Enter the value of 'c': \"))\n",
    "\n",
    "    def area_of_triangle(self):\n",
    "        self.s = (self.a+self.b+self.c)/2\n",
    "        if ((self.a>(self.b+self.c)) or (self.b>(self.a+self.c)) or (self.c>(self.a+self.b))):\n",
    "            print(\"A Triangle does not exist with the given data\")\n",
    "        else:\n",
    "            self.area = (self.s*(self.s - self.a)*(self.s - self.b)*(self.s - self.c))**0.5\n",
    "            return self.area"
   ]
  },
  {
   "cell_type": "code",
   "execution_count": null,
   "id": "5b743ca7",
   "metadata": {},
   "outputs": [],
   "source": [
    "try:\n",
    "    t = triangle()\n",
    "    print(\"The area of the triangle is : \",t.area_of_triangle())\n",
    "except ValueError as e:\n",
    "    print(\"Enter the integer values\")"
   ]
  },
  {
   "cell_type": "code",
   "execution_count": null,
   "id": "3b63d925",
   "metadata": {},
   "outputs": [],
   "source": []
  },
  {
   "cell_type": "markdown",
   "id": "a3535d65",
   "metadata": {},
   "source": [
    "Write a function filter_long_words() that takes a list of words and an integer n and returns the list of words that are longer than n."
   ]
  },
  {
   "cell_type": "code",
   "execution_count": null,
   "id": "f41990ec",
   "metadata": {},
   "outputs": [],
   "source": [
    "def filter_long_words(words,n):\n",
    "    list1=[]\n",
    "    for word in words:\n",
    "        if len(word) > n:\n",
    "            list1.append(word)\n",
    "    return list1"
   ]
  },
  {
   "cell_type": "code",
   "execution_count": null,
   "id": "2805bf9e",
   "metadata": {},
   "outputs": [],
   "source": [
    "if __name__ == \"__main__\":\n",
    "    data = ['avi','babu','RBEIB','Bangalore','Mysore']\n",
    "    try:\n",
    "        n = int(input(\"Enter an integet value: \"))\n",
    "        print(\"The list of words longer than length %d\" % n, \"are \",filter_long_words(data,n))\n",
    "    except ValueError as e:\n",
    "        print(\"Enter integer values\")"
   ]
  },
  {
   "cell_type": "code",
   "execution_count": null,
   "id": "bfe9aeab",
   "metadata": {},
   "outputs": [],
   "source": []
  },
  {
   "cell_type": "markdown",
   "id": "c6b8199c",
   "metadata": {},
   "source": [
    "Write a Python program using function concept that maps list of words into a list of integers representing the lengths of the corresponding words."
   ]
  },
  {
   "cell_type": "code",
   "execution_count": null,
   "id": "d6fc806b",
   "metadata": {},
   "outputs": [],
   "source": [
    "def word_len(data):\n",
    "    list1 = []\n",
    "    for i in data:\n",
    "        list1.append(len(i))\n",
    "    return list1\n",
    "\n",
    "if __name__ == '__main__':\n",
    "    data = ['avi','babu','RBEIB','Bangalore','Mysore']\n",
    "    print(\"The list of word length corresponding to the input word list is\",word_len(data))"
   ]
  },
  {
   "cell_type": "code",
   "execution_count": null,
   "id": "bff74f22",
   "metadata": {},
   "outputs": [],
   "source": []
  },
  {
   "cell_type": "markdown",
   "id": "2ae903d8",
   "metadata": {},
   "source": [
    "Write a Python function which takes a character (i.e. a string of length 1) and returns True if it is a vowel, False otherwise."
   ]
  },
  {
   "cell_type": "code",
   "execution_count": null,
   "id": "a94b06d2",
   "metadata": {},
   "outputs": [],
   "source": [
    "def detect_vowel(char):\n",
    "    if char.lower() in ['a','e','i','o','u']:\n",
    "        return True\n",
    "    else:\n",
    "        return False\n",
    "\n",
    "if __name__ ==\"__main__\":\n",
    "    character = 'd'\n",
    "    print(detect_vowel(character))"
   ]
  }
 ],
 "metadata": {
  "kernelspec": {
   "display_name": "Python 3",
   "language": "python",
   "name": "python3"
  },
  "language_info": {
   "codemirror_mode": {
    "name": "ipython",
    "version": 3
   },
   "file_extension": ".py",
   "mimetype": "text/x-python",
   "name": "python",
   "nbconvert_exporter": "python",
   "pygments_lexer": "ipython3",
   "version": "3.8.8"
  }
 },
 "nbformat": 4,
 "nbformat_minor": 5
}
