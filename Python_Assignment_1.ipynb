{
 "cells": [
  {
   "cell_type": "markdown",
   "id": "c56903c5",
   "metadata": {},
   "source": [
    "# Assignment_1"
   ]
  },
  {
   "cell_type": "markdown",
   "id": "0dd18802",
   "metadata": {},
   "source": [
    "Question 1:\n",
    "Write a program which will find all such numbers which are divisible by 7 but are not a multiple of 5, between 2000 and 3200 (both included). The numbers obtained should be printed in a comma-separated sequence on a single line"
   ]
  },
  {
   "cell_type": "code",
   "execution_count": null,
   "id": "1cf8a230",
   "metadata": {
    "scrolled": true
   },
   "outputs": [],
   "source": [
    "list1 = list(range(2000,3201))\n",
    "list2 =[]\n",
    "\n",
    "for i in list1:\n",
    "    if ((i % 7 == 0) and ~(i % 5 == 0)):\n",
    "        list2.append(str(i))\n",
    "print(','.join(list2))"
   ]
  },
  {
   "cell_type": "markdown",
   "id": "ddaa231d",
   "metadata": {},
   "source": [
    "Question 2:\n",
    "Write a Python program to accept the user's first and last name and then getting them printed in the the reverse order with a space between first name and last name."
   ]
  },
  {
   "cell_type": "code",
   "execution_count": null,
   "id": "ad3ae76f",
   "metadata": {},
   "outputs": [],
   "source": [
    "f_name = input(\"Enter your first name : \")\n",
    "l_name = input(\"Enter your last name : \")\n",
    "\n",
    "full_name = f_name + ' ' + l_name\n",
    "print(\"Full name is : \",full_name)\n",
    "\n",
    "reverse = full_name[::-1]\n",
    "print(\"reverse Order of Full name : \",reverse)"
   ]
  },
  {
   "cell_type": "markdown",
   "id": "7da036df",
   "metadata": {},
   "source": [
    "Question 3:\n",
    "Write a Python program to find the volume of a sphere with diameter 12 cm"
   ]
  },
  {
   "cell_type": "code",
   "execution_count": null,
   "id": "daa6478f",
   "metadata": {},
   "outputs": [],
   "source": [
    "diameter = 12\n",
    "radius = diameter/2\n",
    "pi = 3.14159\n",
    "\n",
    "volume = (4/3)*pi*(radius**3)\n",
    "print(volume)"
   ]
  }
 ],
 "metadata": {
  "kernelspec": {
   "display_name": "Python 3",
   "language": "python",
   "name": "python3"
  },
  "language_info": {
   "codemirror_mode": {
    "name": "ipython",
    "version": 3
   },
   "file_extension": ".py",
   "mimetype": "text/x-python",
   "name": "python",
   "nbconvert_exporter": "python",
   "pygments_lexer": "ipython3",
   "version": "3.8.8"
  }
 },
 "nbformat": 4,
 "nbformat_minor": 5
}
