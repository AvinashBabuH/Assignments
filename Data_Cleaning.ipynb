{
 "cells": [
  {
   "cell_type": "markdown",
   "id": "e3bd042b",
   "metadata": {},
   "source": [
    "# Data_Cleaning_Assignment"
   ]
  },
  {
   "cell_type": "markdown",
   "id": "5b802a05",
   "metadata": {},
   "source": [
    "It happens all the time: someone gives you data containing malformed strings, Python, lists and missing data. How do you tidy it up so you can get on with the analysis? <br>\n",
    "\n",
    "Take this monstrosity as the DataFrame to use in the following puzzles:\n",
    "\n",
    "df = pd.DataFrame({'From_To': ['LoNDon_paris', 'MAdrid_miLAN','londON_StockhOlm','Budapest_PaRis', 'Brussels_londOn'],<br>\n",
    "                   'FlightNumber': [10045, np.nan, 10065, np.nan, 10085],<br>\n",
    "                   'RecentDelays': [[23, 47], [], [24, 43, 87], [13], [67, 32]],<br>\n",
    "                   'Airline': ['KLM(!)', '<Air France> (12)', '(British Airways. )','12. Air France', '\"Swiss Air\"']})"
   ]
  },
  {
   "cell_type": "code",
   "execution_count": null,
   "id": "69a850ab",
   "metadata": {},
   "outputs": [],
   "source": [
    "import pandas as pd\n",
    "import numpy as np\n",
    "import warnings\n",
    "warnings.filterwarnings('ignore')\n",
    "\n",
    "df = pd.DataFrame({'From_To': ['LoNDon_paris', 'MAdrid_miLAN','londON_StockhOlm','Budapest_PaRis', 'Brussels_londOn'],\n",
    "                   'FlightNumber': [10045, np.nan, 10065, np.nan, 10085],\n",
    "                   'RecentDelays': [[23, 47], [], [24, 43, 87], [13], [67, 32]],\n",
    "                   'Airline': ['KLM(!)', '<Air France> (12)', '(British Airways. )','12. Air France', '\"Swiss Air\"']})"
   ]
  },
  {
   "cell_type": "code",
   "execution_count": null,
   "id": "912832a2",
   "metadata": {},
   "outputs": [],
   "source": [
    "df"
   ]
  },
  {
   "cell_type": "markdown",
   "id": "31b7a28c",
   "metadata": {},
   "source": [
    "1. Some values in the the FlightNumber column are missing. These numbers are meant to increase by 10 with each row so 10055 and 10075 need to be put in place. Fill in these missing numbers and make the column an integer column (instead of a float column)."
   ]
  },
  {
   "cell_type": "code",
   "execution_count": null,
   "id": "4b8b1fdb",
   "metadata": {},
   "outputs": [],
   "source": [
    "#df.FlightNumber[1] = 10055\n",
    "#df.FlightNumber[3] = 10075"
   ]
  },
  {
   "cell_type": "code",
   "execution_count": null,
   "id": "c0b7fa4b",
   "metadata": {},
   "outputs": [],
   "source": [
    "for i in range(0,len(df.FlightNumber)):\n",
    "    if pd.isna(df.FlightNumber[i]):\n",
    "        df.FlightNumber[i] = df.FlightNumber[i-1] + 10"
   ]
  },
  {
   "cell_type": "code",
   "execution_count": null,
   "id": "922ef1e0",
   "metadata": {},
   "outputs": [],
   "source": [
    "df"
   ]
  },
  {
   "cell_type": "code",
   "execution_count": null,
   "id": "9cd4ad5f",
   "metadata": {},
   "outputs": [],
   "source": [
    "df.FlightNumber.dtypes"
   ]
  },
  {
   "cell_type": "code",
   "execution_count": null,
   "id": "c50bbf65",
   "metadata": {},
   "outputs": [],
   "source": [
    "df.FlightNumber = df.FlightNumber.astype('int')"
   ]
  },
  {
   "cell_type": "code",
   "execution_count": null,
   "id": "c4e91f01",
   "metadata": {},
   "outputs": [],
   "source": [
    "df"
   ]
  },
  {
   "cell_type": "code",
   "execution_count": null,
   "id": "01fc9520",
   "metadata": {},
   "outputs": [],
   "source": []
  },
  {
   "cell_type": "markdown",
   "id": "cf228b0f",
   "metadata": {},
   "source": [
    "2. The From_To column would be better as two separate columns! Split each string on the underscore delimiter _ to give a new temporary DataFrame with the correct values. Assign the correct column names to this temporary DataFrame."
   ]
  },
  {
   "cell_type": "code",
   "execution_count": null,
   "id": "45a9c551",
   "metadata": {},
   "outputs": [],
   "source": [
    "df1 = df.copy()"
   ]
  },
  {
   "cell_type": "code",
   "execution_count": null,
   "id": "0e62bc53",
   "metadata": {},
   "outputs": [],
   "source": [
    "df1"
   ]
  },
  {
   "cell_type": "code",
   "execution_count": null,
   "id": "9d4ce41e",
   "metadata": {},
   "outputs": [],
   "source": [
    "temp = df1['From_To'].str.split('_', expand=True)"
   ]
  },
  {
   "cell_type": "code",
   "execution_count": null,
   "id": "f40f5fa4",
   "metadata": {},
   "outputs": [],
   "source": [
    "df1['From'] = temp[0]\n",
    "df1['To'] = temp[1]\n",
    "df1.drop(\"From_To\",axis=1,inplace=True)\n",
    "df1"
   ]
  },
  {
   "cell_type": "code",
   "execution_count": null,
   "id": "742749c4",
   "metadata": {},
   "outputs": [],
   "source": []
  },
  {
   "cell_type": "markdown",
   "id": "ecb73cf8",
   "metadata": {},
   "source": [
    "3. Notice how the capitalisation of the city names is all mixed up in this\n",
    "temporary DataFrame. Standardise the strings so that only the first letter is\n",
    "uppercase (e.g. \"londON\" should become \"London\".)"
   ]
  },
  {
   "cell_type": "code",
   "execution_count": null,
   "id": "6f929ca1",
   "metadata": {},
   "outputs": [],
   "source": [
    "df1.From = df1.From.str.capitalize()\n",
    "df1.To = df1.To.str.capitalize()"
   ]
  },
  {
   "cell_type": "code",
   "execution_count": null,
   "id": "3e4e2ab4",
   "metadata": {},
   "outputs": [],
   "source": [
    "df1"
   ]
  },
  {
   "cell_type": "code",
   "execution_count": null,
   "id": "6e7fdf6c",
   "metadata": {},
   "outputs": [],
   "source": []
  },
  {
   "cell_type": "markdown",
   "id": "2a624f5d",
   "metadata": {},
   "source": [
    "4. Delete the From_To column from df and attach the temporary DataFrame\n",
    "from the previous questions."
   ]
  },
  {
   "cell_type": "code",
   "execution_count": null,
   "id": "0edeab6b",
   "metadata": {},
   "outputs": [],
   "source": [
    "df.drop('From_To',axis=1,inplace=True)\n",
    "df"
   ]
  },
  {
   "cell_type": "code",
   "execution_count": null,
   "id": "304f74e9",
   "metadata": {},
   "outputs": [],
   "source": [
    "df = pd.concat([df,df1])"
   ]
  },
  {
   "cell_type": "code",
   "execution_count": null,
   "id": "b3848669",
   "metadata": {},
   "outputs": [],
   "source": [
    "df"
   ]
  },
  {
   "cell_type": "code",
   "execution_count": null,
   "id": "c2b9bc88",
   "metadata": {},
   "outputs": [],
   "source": []
  },
  {
   "cell_type": "markdown",
   "id": "223efb16",
   "metadata": {},
   "source": [
    "5. In the RecentDelays column, the values have been entered into the\n",
    "DataFrame as a list. We would like each first value in its own column, each\n",
    "second value in its own column, and so on. If there isn't an Nth value, the value\n",
    "should be NaN.<br>\n",
    "Expand the Series of lists into a DataFrame named delays, rename the columns\n",
    "delay_1, delay_2, etc. and replace the unwanted RecentDelays column in df\n",
    "with delays."
   ]
  },
  {
   "cell_type": "code",
   "execution_count": null,
   "id": "6b85f389",
   "metadata": {},
   "outputs": [],
   "source": [
    "delays = df.RecentDelays.apply(pd.Series)\n",
    "delays.columns = ['delay1','delay2','delay3']\n",
    "delays"
   ]
  },
  {
   "cell_type": "code",
   "execution_count": null,
   "id": "20b3a2e2",
   "metadata": {},
   "outputs": [],
   "source": [
    "df.drop('RecentDelays',axis=1,inplace=True)"
   ]
  },
  {
   "cell_type": "code",
   "execution_count": null,
   "id": "0084aaca",
   "metadata": {},
   "outputs": [],
   "source": [
    "df"
   ]
  },
  {
   "cell_type": "code",
   "execution_count": null,
   "id": "fca82d5e",
   "metadata": {},
   "outputs": [],
   "source": [
    "df = df.join(delays)"
   ]
  },
  {
   "cell_type": "code",
   "execution_count": null,
   "id": "ecf3b72d",
   "metadata": {},
   "outputs": [],
   "source": [
    "df.drop_duplicates(\"FlightNumber\",keep='last')"
   ]
  },
  {
   "cell_type": "code",
   "execution_count": null,
   "id": "14c24dc7",
   "metadata": {},
   "outputs": [],
   "source": []
  }
 ],
 "metadata": {
  "kernelspec": {
   "display_name": "Python 3",
   "language": "python",
   "name": "python3"
  },
  "language_info": {
   "codemirror_mode": {
    "name": "ipython",
    "version": 3
   },
   "file_extension": ".py",
   "mimetype": "text/x-python",
   "name": "python",
   "nbconvert_exporter": "python",
   "pygments_lexer": "ipython3",
   "version": "3.8.8"
  }
 },
 "nbformat": 4,
 "nbformat_minor": 5
}
